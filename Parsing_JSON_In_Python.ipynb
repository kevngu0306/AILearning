{
  "nbformat": 4,
  "nbformat_minor": 0,
  "metadata": {
    "colab": {
      "provenance": [],
      "authorship_tag": "ABX9TyNpFhAttwPKYIFnb042UhZy",
      "include_colab_link": true
    },
    "kernelspec": {
      "name": "python3",
      "display_name": "Python 3"
    },
    "language_info": {
      "name": "python"
    }
  },
  "cells": [
    {
      "cell_type": "markdown",
      "metadata": {
        "id": "view-in-github",
        "colab_type": "text"
      },
      "source": [
        "<a href=\"https://colab.research.google.com/github/kevngu0306/AILearning/blob/main/Parsing_JSON_In_Python.ipynb\" target=\"_parent\"><img src=\"https://colab.research.google.com/assets/colab-badge.svg\" alt=\"Open In Colab\"/></a>"
      ]
    },
    {
      "cell_type": "code",
      "execution_count": null,
      "metadata": {
        "colab": {
          "base_uri": "https://localhost:8080/"
        },
        "id": "67mMRpPwRCzq",
        "outputId": "828a3f47-883f-4d72-f7a1-deb53cdd039d"
      },
      "outputs": [
        {
          "output_type": "stream",
          "name": "stdout",
          "text": [
            "Title:  AWS SDK for Rust not getting region from specified profile\n",
            "Tags:  ['amazon-web-services', 'rust', 'aws-cloudformation', 'aws-sdk-rust']\n",
            "Answered?:  False\n",
            "Creation Date:  2025-05-29 00:49:21\n",
            "\n",
            "Title:  para iniciar en la programaci&#243;n\n",
            "Tags:  ['javascript', 'c#', 'c++']\n",
            "Answered?:  False\n",
            "Creation Date:  2025-05-29 00:49:07\n",
            "\n",
            "Title:  Please tell me what&#39;s going wrong in this c++ code which is using getline, cin, cin.getline?\n",
            "Tags:  ['c++']\n",
            "Answered?:  False\n",
            "Creation Date:  2025-05-26 13:27:15\n",
            "\n",
            "Title:  Not getting grafana Loki retention overrides to work\n",
            "Tags:  ['grafana-loki']\n",
            "Answered?:  False\n",
            "Creation Date:  2025-01-09 13:51:54\n",
            "\n",
            "Title:  Java Selenium, Trying to find a method to reduce polling time for page elements\n",
            "Tags:  ['java', 'selenium-webdriver']\n",
            "Answered?:  False\n",
            "Creation Date:  2025-05-29 00:44:15\n",
            "\n"
          ]
        }
      ],
      "source": [
        "# Week 2 - Day 3: Parsing JSON In Python\n",
        "\n",
        "import requests\n",
        "import json\n",
        "import datetime\n",
        "\n",
        "# GETting Necessary Data from Desired API\n",
        "response = requests.get(\"https://api.stackexchange.com/2.3/questions?order=desc&sort=activity&site=stackoverflow\")\n",
        "\n",
        "for item in response.json()[\"items\"][:5]:\n",
        "    print(\"Title: \", item[\"title\"])\n",
        "    print(\"Tags: \", item[\"tags\"])\n",
        "    print(\"Answered?: \", item[\"is_answered\"])\n",
        "\n",
        "    creationDate = item[\"creation_date\"]\n",
        "    humanTime = datetime.datetime.fromtimestamp(creationDate)\n",
        "    print(\"Creation Date: \", humanTime.strftime(\"%Y-%m-%d %H:%M:%S\"))\n",
        "\n",
        "    print()"
      ]
    }
  ]
}