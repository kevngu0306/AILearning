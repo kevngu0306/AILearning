{
  "nbformat": 4,
  "nbformat_minor": 0,
  "metadata": {
    "colab": {
      "provenance": [],
      "authorship_tag": "ABX9TyM259GP02cJ8K9X9gwCIZTS",
      "include_colab_link": true
    },
    "kernelspec": {
      "name": "python3",
      "display_name": "Python 3"
    },
    "language_info": {
      "name": "python"
    }
  },
  "cells": [
    {
      "cell_type": "markdown",
      "metadata": {
        "id": "view-in-github",
        "colab_type": "text"
      },
      "source": [
        "<a href=\"https://colab.research.google.com/github/kevngu0306/AILearning/blob/main/JSON_With_Error_Handling.ipynb\" target=\"_parent\"><img src=\"https://colab.research.google.com/assets/colab-badge.svg\" alt=\"Open In Colab\"/></a>"
      ]
    },
    {
      "cell_type": "code",
      "execution_count": null,
      "metadata": {
        "colab": {
          "base_uri": "https://localhost:8080/"
        },
        "id": "9SbzFbOwxwJH",
        "outputId": "e2ad34d5-7ec3-49c2-e585-5d22a803478b"
      },
      "outputs": [
        {
          "output_type": "stream",
          "name": "stdout",
          "text": [
            "Title:  How to read/extract climate model data in .asc file format by using Python?\n",
            "Tags:  ['python', 'numpy']\n",
            "Answered?:  True\n",
            "Creation Date:  2015-05-08 06:53:49\n",
            "\n",
            "Title:  Different correlation functions showing different values?\n",
            "Tags:  ['r', 'correlation']\n",
            "Answered?:  False\n",
            "Creation Date:  2025-05-29 02:11:55\n",
            "\n",
            "Title:  How can I configure Spring Security to support an external auth service and session management\n",
            "Tags:  ['spring-security']\n",
            "Answered?:  False\n",
            "Creation Date:  2025-05-29 02:33:19\n",
            "\n",
            "Title:  Trying to search a specific column range of 45 to 64 only\n",
            "Tags:  ['max', 'min', 'xlookup']\n",
            "Answered?:  False\n",
            "Creation Date:  2025-05-28 17:34:20\n",
            "\n",
            "Title:  WooCommerce Add Product Brand and Product Tags To Search Query\n",
            "Tags:  ['php', 'html', 'search', 'woocommerce', 'custom-taxonomy']\n",
            "Answered?:  False\n",
            "Creation Date:  2025-05-28 20:09:43\n",
            "\n"
          ]
        }
      ],
      "source": [
        "# Week 2 - Day 4: JSON With Error Handling\n",
        "\n",
        "import requests\n",
        "import json\n",
        "import datetime\n",
        "\n",
        "# GETting Necessary Data from Desired API\n",
        "try:\n",
        "  response = requests.get(\"https://api.stackexchange.com/2.3/questions?order=desc&sort=activity&site=stackoverflow\")\n",
        "\n",
        "  if(response.status_code != 200):\n",
        "    print(f\"Error: Received status code {response.status_code}\")\n",
        "  else:\n",
        "    try:\n",
        "      for item in response.json()[\"items\"][:5]:\n",
        "        print(\"Title: \", item[\"title\"])\n",
        "        print(\"Tags: \", item[\"tags\"])\n",
        "        print(\"Answered?: \", item[\"is_answered\"])\n",
        "\n",
        "        creationDate = item[\"creation_date\"]\n",
        "        humanTime = datetime.datetime.fromtimestamp(creationDate)\n",
        "        print(\"Creation Date: \", humanTime.strftime(\"%Y-%m-%d %H:%M:%S\"))\n",
        "\n",
        "        print()\n",
        "\n",
        "    except KeyError as e:\n",
        "      print(\"Missing Expected Key: \", e)\n",
        "    except ValueError as e:\n",
        "      print(\"Invalid Value: \", e)\n",
        "    except json.decoder.JSONDecodeError as e:\n",
        "      print(\"Invalid JSON Response: \", e)\n",
        "\n",
        "except requests.exceptions.RequestException as e:\n",
        "  print(\"Network-Related Error: \", e)\n",
        "\n",
        "except Exception as e:\n",
        "  print(\"Something Unexpected Happened: \", e)"
      ]
    }
  ]
}