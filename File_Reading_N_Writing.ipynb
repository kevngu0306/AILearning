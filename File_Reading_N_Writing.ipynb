{
  "nbformat": 4,
  "nbformat_minor": 0,
  "metadata": {
    "colab": {
      "provenance": [],
      "authorship_tag": "ABX9TyPPWj7yAMo0hSX9Rw389OYV",
      "include_colab_link": true
    },
    "kernelspec": {
      "name": "python3",
      "display_name": "Python 3"
    },
    "language_info": {
      "name": "python"
    }
  },
  "cells": [
    {
      "cell_type": "markdown",
      "metadata": {
        "id": "view-in-github",
        "colab_type": "text"
      },
      "source": [
        "<a href=\"https://colab.research.google.com/github/kevngu0306/AILearning/blob/main/File_Reading_N_Writing.ipynb\" target=\"_parent\"><img src=\"https://colab.research.google.com/assets/colab-badge.svg\" alt=\"Open In Colab\"/></a>"
      ]
    },
    {
      "cell_type": "code",
      "execution_count": null,
      "metadata": {
        "id": "TRw8V3r6UW5O"
      },
      "outputs": [],
      "source": [
        "# Week 3 - Day 1: File Reading + Writing\n",
        "\n",
        "import datetime\n",
        "\n",
        "# Reading A File\n",
        "with open(\"input_data.txt\", \"r\") as f:\n",
        "  for line in f:\n",
        "    print(line.strip())\n",
        "\n",
        "# Writing To A File\n",
        "with open(\"output_data.txt\", \"w\") as f:\n",
        "  f.write(\"Output Log\\n==========\\nData received successfully.\\n\")\n",
        "\n",
        "# Appending With Timestamp\n",
        "with open(\"output_data.txt\", \"a\") as f:\n",
        "  timestamp = datetime.datetime.now().strftime(\"%Y-%m-%d %H:%M:%S\")\n",
        "  f.write(f\"[{timestamp}] Appended log entry from script\\n\")"
      ]
    }
  ]
}