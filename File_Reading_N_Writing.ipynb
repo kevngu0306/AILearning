{
  "nbformat": 4,
  "nbformat_minor": 0,
  "metadata": {
    "colab": {
      "provenance": [],
      "authorship_tag": "ABX9TyM4DJbA4MZsRrL4spzRMYB2",
      "include_colab_link": true
    },
    "kernelspec": {
      "name": "python3",
      "display_name": "Python 3"
    },
    "language_info": {
      "name": "python"
    }
  },
  "cells": [
    {
      "cell_type": "markdown",
      "metadata": {
        "id": "view-in-github",
        "colab_type": "text"
      },
      "source": [
        "<a href=\"https://colab.research.google.com/github/kevngu0306/AILearning/blob/main/File_Reading_N_Writing.ipynb\" target=\"_parent\"><img src=\"https://colab.research.google.com/assets/colab-badge.svg\" alt=\"Open In Colab\"/></a>"
      ]
    },
    {
      "cell_type": "code",
      "execution_count": null,
      "metadata": {
        "id": "TRw8V3r6UW5O"
      },
      "outputs": [],
      "source": [
        "# Week 3 - Day 1: File Reading + Writing\n",
        "\n",
        "import datetime\n",
        "\n",
        "# Reading A File\n",
        "with open(\"input_data.txt\", \"r\") as f: # \"r\" for Reading\n",
        "  for line in f:\n",
        "    print(line.strip())\n",
        "\n",
        "# Writing To A File\n",
        "with open(\"output_data.txt\", \"w\") as f: # \"w\" for Writing\n",
        "  f.write(\"Output Log\\n==========\\nData received successfully.\\n\")\n",
        "\n",
        "# Appending With Timestamp\n",
        "with open(\"output_data.txt\", \"a\") as f: # \"a\" for Appending\n",
        "  timestamp = datetime.datetime.now().strftime(\"%Y-%m-%d %H:%M:%S\")\n",
        "  f.write(f\"[{timestamp}] Appended log entry from script\\n\")"
      ]
    },
    {
      "cell_type": "code",
      "source": [
        "# Week 3 - Day 2: File I/O With Error Handling\n",
        "\n",
        "import datetime\n",
        "\n",
        "# Reading A File\n",
        "try:\n",
        "  with open(\"input_data.txt\", \"r\") as f:\n",
        "    for line in f:\n",
        "      print(line.strip())\n",
        "except FileNotFoundError:\n",
        "  print(\"input_data.txt not found. Please check the file path.\")\n",
        "except Exception as e:\n",
        "  print(f\"An unexpected error occurred: {e}\")\n",
        "\n",
        "# Writing To A File\n",
        "try:\n",
        "  with open(\"output_data.txt\", \"w\") as f:\n",
        "    f.write(\"Output Log\\n==========\\nData received successfully.\\n\")\n",
        "except PermissionError:\n",
        "  print(\"Permission denied: Unable to write to output_data.txt.\")\n",
        "except Exception as e:\n",
        "  print(f\"An unexpected error occurred: {e}\")\n",
        "\n",
        "# Appending With Timestamp\n",
        "try:\n",
        "  with open(\"output_data.txt\", \"a\") as f:\n",
        "    timestamp = datetime.datetime.now().strftime(\"%Y-%m-%d %H:%M:%S\")\n",
        "    f.write(f\"[{timestamp}] Appended log entry from script\\n\")\n",
        "except PermissionError:\n",
        "  print(\"Permission denied: Unable to append to output_data.txt.\")\n",
        "except Exception as e:\n",
        "  print(f\"An unexpected error occurred: {e}\")"
      ],
      "metadata": {
        "colab": {
          "base_uri": "https://localhost:8080/",
          "height": 106
        },
        "id": "0-iTzVKIqLQC",
        "outputId": "ea59f8c6-96de-49ad-b372-45b15ad2f1eb"
      },
      "execution_count": null,
      "outputs": [
        {
          "output_type": "error",
          "ename": "SyntaxError",
          "evalue": "incomplete input (<ipython-input-1-5fc422fe35ed>, line 29)",
          "traceback": [
            "\u001b[0;36m  File \u001b[0;32m\"<ipython-input-1-5fc422fe35ed>\"\u001b[0;36m, line \u001b[0;32m29\u001b[0m\n\u001b[0;31m    except Exception as e:\u001b[0m\n\u001b[0m                          ^\u001b[0m\n\u001b[0;31mSyntaxError\u001b[0m\u001b[0;31m:\u001b[0m incomplete input\n"
          ]
        }
      ]
    }
  ]
}