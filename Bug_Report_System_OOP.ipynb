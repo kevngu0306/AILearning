{
  "nbformat": 4,
  "nbformat_minor": 0,
  "metadata": {
    "colab": {
      "provenance": [],
      "authorship_tag": "ABX9TyOUgkyi1j1w0Ej7ekrqYgL4",
      "include_colab_link": true
    },
    "kernelspec": {
      "name": "python3",
      "display_name": "Python 3"
    },
    "language_info": {
      "name": "python"
    }
  },
  "cells": [
    {
      "cell_type": "markdown",
      "metadata": {
        "id": "view-in-github",
        "colab_type": "text"
      },
      "source": [
        "<a href=\"https://colab.research.google.com/github/kevngu0306/AILearning/blob/main/Bug_Report_System_OOP.ipynb\" target=\"_parent\"><img src=\"https://colab.research.google.com/assets/colab-badge.svg\" alt=\"Open In Colab\"/></a>"
      ]
    },
    {
      "cell_type": "code",
      "execution_count": 6,
      "metadata": {
        "colab": {
          "base_uri": "https://localhost:8080/"
        },
        "id": "wRX0j20qT8sK",
        "outputId": "91c2483b-82db-4e97-ee06-9a5e86662fa8"
      },
      "outputs": [
        {
          "output_type": "stream",
          "name": "stdout",
          "text": [
            "Enter your name: \n",
            "Kevin\n",
            "Describe the bug: \n",
            "App crashes when click submit\n",
            "Severity (Low/Medium/High): \n",
            "High\n",
            "Bug Report\n",
            "User: Kevin\n",
            "Bug: App crashes when click submit\n",
            "Severity: High\n",
            "Timestamp: 2025-06-10 01:12:52\n",
            "Report saved.\n",
            "Enter your name: \n",
            "Mike\n",
            "Describe the bug: \n",
            "App does not open\n",
            "Severity (Low/Medium/High): \n",
            "High\n",
            "Bug Report\n",
            "User: Mike\n",
            "Bug: App does not open\n",
            "Severity: High\n",
            "Timestamp: 2025-06-10 01:13:00\n",
            "Report saved.\n",
            "Enter your name: \n",
            "exit\n",
            "Exiting system. Goodbye.\n"
          ]
        }
      ],
      "source": [
        "import datetime\n",
        "\n",
        "class BugReport:\n",
        "  def __init__(self, user, bug, severity, timestamp=None):\n",
        "    self.user = user\n",
        "    self.bug = bug\n",
        "    self.severity = severity\n",
        "    self.timestamp = timestamp or datetime.datetime.now().strftime(\"%Y-%m-%d %H:%M:%S\")\n",
        "\n",
        "  def display(self):\n",
        "    print(\"Bug Report\")\n",
        "    print(f\"User: {self.user}\")\n",
        "    print(f\"Bug: {self.bug}\")\n",
        "    print(f\"Severity: {self.severity}\")\n",
        "    print(f\"Timestamp: {self.timestamp}\")\n",
        "\n",
        "  def save_to_file(self):\n",
        "    with open(\"bug_reports_oop_log.txt\", \"a\") as af:\n",
        "      af.write(\n",
        "        f\"Bug Report\\n\"\n",
        "        f\"User: {self.user}\\n\"\n",
        "        f\"Bug: {self.bug}\\n\"\n",
        "        f\"Severity: {self.severity}\\n\"\n",
        "        f\"Timestamp: {self.timestamp}\\n\"\n",
        "        f\"{'-'*40}\\n\"\n",
        "      )\n",
        "\n",
        "while(True):\n",
        "  userName = \"\"\n",
        "  userBug = \"\"\n",
        "  userSev = \"\"\n",
        "\n",
        "  print(\"Enter your name: \")\n",
        "  userName = input()\n",
        "  if(userName != \"exit\"):\n",
        "    print(\"Describe the bug: \")\n",
        "    userBug = input()\n",
        "    print(\"Severity (Low/Medium/High): \")\n",
        "    userSev = input()\n",
        "    userReport = BugReport(userName, userBug, userSev)\n",
        "    userReport.display()\n",
        "    userReport.save_to_file()\n",
        "    print(\"Report saved.\")\n",
        "    continue\n",
        "  elif(userName == \"exit\"):\n",
        "    print(\"Exiting system. Goodbye.\")\n",
        "    break"
      ]
    }
  ]
}