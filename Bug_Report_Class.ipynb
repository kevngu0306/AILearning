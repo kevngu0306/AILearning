{
  "nbformat": 4,
  "nbformat_minor": 0,
  "metadata": {
    "colab": {
      "provenance": [],
      "authorship_tag": "ABX9TyODhOipnKbObBfQ52ogCfP/",
      "include_colab_link": true
    },
    "kernelspec": {
      "name": "python3",
      "display_name": "Python 3"
    },
    "language_info": {
      "name": "python"
    }
  },
  "cells": [
    {
      "cell_type": "markdown",
      "metadata": {
        "id": "view-in-github",
        "colab_type": "text"
      },
      "source": [
        "<a href=\"https://colab.research.google.com/github/kevngu0306/AILearning/blob/main/Bug_Report_Class.ipynb\" target=\"_parent\"><img src=\"https://colab.research.google.com/assets/colab-badge.svg\" alt=\"Open In Colab\"/></a>"
      ]
    },
    {
      "cell_type": "code",
      "execution_count": 4,
      "metadata": {
        "colab": {
          "base_uri": "https://localhost:8080/"
        },
        "id": "2tnQAeOoPcgo",
        "outputId": "f3a7a43d-0dae-4167-8308-a9bf9f717ecb"
      },
      "outputs": [
        {
          "output_type": "stream",
          "name": "stdout",
          "text": [
            "Bug Report\n",
            "User: Kevin\n",
            "Bug: App crashes when click submit\n",
            "Severity: High\n",
            "Timestamp: 2025-06-10 00:40:09\n"
          ]
        }
      ],
      "source": [
        "import datetime\n",
        "\n",
        "class BugReport:\n",
        "  def __init__(self, user, bug, severity, timestamp=None):\n",
        "    self.user = user\n",
        "    self.bug = bug\n",
        "    self.severity = severity\n",
        "    self.timestamp = timestamp or datetime.datetime.now().strftime(\"%Y-%m-%d %H:%M:%S\")\n",
        "\n",
        "  def display(self):\n",
        "    print(\"Bug Report\")\n",
        "    print(f\"User: {self.user}\")\n",
        "    print(f\"Bug: {self.bug}\")\n",
        "    print(f\"Severity: {self.severity}\")\n",
        "    print(f\"Timestamp: {self.timestamp}\")\n",
        "\n",
        "  def save_to_file(self):\n",
        "    with open(\"bug_reports_oop_log.txt\", \"a\") as af:\n",
        "      af.write(\n",
        "        f\"Bug Report\\n\"\n",
        "        f\"User: {self.user}\\n\"\n",
        "        f\"Bug: {self.bug}\\n\"\n",
        "        f\"Severity: {self.severity}\\n\"\n",
        "        f\"Timestamp: {self.timestamp}\\n\"\n",
        "        f\"{'-'*40}\\n\"\n",
        "      )\n",
        "\n",
        "case1 = BugReport(\"Kevin\", \"App crashes when click submit\", \"High\")\n",
        "case1.display()"
      ]
    }
  ]
}